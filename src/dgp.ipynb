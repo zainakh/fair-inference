{
 "cells": [
  {
   "cell_type": "markdown",
   "id": "b9218632-dac4-44fd-b2b7-de6396ed515a",
   "metadata": {},
   "source": [
    "# Create Ground Truth"
   ]
  },
  {
   "cell_type": "code",
   "execution_count": 1,
   "id": "d8eb9507-4389-4c6a-9d77-11606a162c5f",
   "metadata": {},
   "outputs": [
    {
     "name": "stderr",
     "output_type": "stream",
     "text": [
      "/Users/zainkhan/miniconda3/envs/comp/lib/python3.8/site-packages/tqdm/auto.py:22: TqdmWarning: IProgress not found. Please update jupyter and ipywidgets. See https://ipywidgets.readthedocs.io/en/stable/user_install.html\n",
      "  from .autonotebook import tqdm as notebook_tqdm\n"
     ]
    }
   ],
   "source": [
    "import pyro\n",
    "import pyro.distributions as dist\n",
    "from pyro.infer import SVI, Trace_ELBO\n",
    "from pyro.optim import Adam\n",
    "\n",
    "import matplotlib.pyplot as plt\n",
    "from tqdm import tqdm\n",
    "import pandas as pd\n",
    "import numpy as np\n",
    "import torch\n",
    "\n",
    "from datetime import date"
   ]
  },
  {
   "cell_type": "code",
   "execution_count": 2,
   "id": "c6c7b790-a260-4e64-b7be-09c31742b0b0",
   "metadata": {},
   "outputs": [],
   "source": [
    "def GroundTruthModel(gamma_shift=0., C=0.):\n",
    "    gamma_shift = torch.tensor(gamma_shift)\n",
    "    C = torch.tensor(C)\n",
    "    \n",
    "    lambda1 = torch.tensor(0.2)\n",
    "    lambda2 = torch.tensor(-0.1)\n",
    "    lambda3 = torch.tensor(-0.8)\n",
    "    lambda4 = torch.tensor(0.8)\n",
    "\n",
    "    lambda5 = torch.tensor(0.8)\n",
    "    lambda6 = torch.tensor(0.1)\n",
    "    lambda7 = torch.tensor(-0.8)\n",
    "    lambda8 = torch.tensor(0.2)\n",
    "    \n",
    "    u1 = pyro.sample(\"u1\", dist.Normal(torch.tensor(0.), torch.tensor(0.8)))\n",
    "    u2 = pyro.sample(\"u2\", dist.Normal(torch.tensor(0.), torch.tensor(0.8)))\n",
    "    u3 = pyro.sample(\"u3\", dist.Normal(torch.tensor(0.), torch.tensor(0.8)))\n",
    "    u4 = pyro.sample(\"u4\", dist.Normal(torch.tensor(0.), torch.tensor(1.)))\n",
    "    \n",
    "    a_prob = torch.sigmoid(gamma_shift * lambda1 * C + u1)\n",
    "    a_val = pyro.sample(\"a\", dist.Bernoulli(probs=a_prob))\n",
    "    a = pyro.sample(\"A\", dist.Delta(a_val))\n",
    "    \n",
    "    r_val = pyro.sample(\"r\", dist.Normal(0., 1.)) + lambda2 * a_val + u2 \n",
    "    r = pyro.sample(\"R\", dist.Delta(r_val))\n",
    "    \n",
    "    y_prob = torch.sigmoid(lambda3 * a_val + lambda4 * r_val + u3)\n",
    "    y_val = pyro.sample(\"y\", dist.Bernoulli(y_prob))\n",
    "    y = pyro.sample(\"Y\", dist.Delta(y_val))\n",
    "    \n",
    "    t_val = pyro.sample(\"t\", dist.Normal(lambda5 * y_val + lambda6 * r_val + lambda7 * a_val + u4, 1. + gamma_shift * lambda8 * C))\n",
    "    t = pyro.sample(\"T\", dist.Delta(t_val))"
   ]
  },
  {
   "cell_type": "code",
   "execution_count": 3,
   "id": "1cba8802-199a-467a-88a3-0ad9a52f8ffb",
   "metadata": {},
   "outputs": [],
   "source": [
    "trace_handler = pyro.poutine.trace(GroundTruthModel)\n",
    "samples = pd.DataFrame(columns=['A', 'R', 'T', 'Y'])\n",
    "sample_noise = pd.DataFrame(columns=['u1', 'u2', 'u3', 'u4'])"
   ]
  },
  {
   "cell_type": "code",
   "execution_count": 4,
   "id": "37737c45-75e9-4bba-8600-0c8fab8838e7",
   "metadata": {},
   "outputs": [
    {
     "data": {
      "text/html": [
       "<div>\n",
       "<style scoped>\n",
       "    .dataframe tbody tr th:only-of-type {\n",
       "        vertical-align: middle;\n",
       "    }\n",
       "\n",
       "    .dataframe tbody tr th {\n",
       "        vertical-align: top;\n",
       "    }\n",
       "\n",
       "    .dataframe thead th {\n",
       "        text-align: right;\n",
       "    }\n",
       "</style>\n",
       "<table border=\"1\" class=\"dataframe\">\n",
       "  <thead>\n",
       "    <tr style=\"text-align: right;\">\n",
       "      <th></th>\n",
       "      <th>A</th>\n",
       "      <th>R</th>\n",
       "      <th>T</th>\n",
       "      <th>Y</th>\n",
       "    </tr>\n",
       "  </thead>\n",
       "  <tbody>\n",
       "    <tr>\n",
       "      <th>0</th>\n",
       "      <td>0.0</td>\n",
       "      <td>1.451493</td>\n",
       "      <td>-0.530997</td>\n",
       "      <td>0.0</td>\n",
       "    </tr>\n",
       "    <tr>\n",
       "      <th>1</th>\n",
       "      <td>1.0</td>\n",
       "      <td>-1.895861</td>\n",
       "      <td>-0.66953</td>\n",
       "      <td>0.0</td>\n",
       "    </tr>\n",
       "    <tr>\n",
       "      <th>2</th>\n",
       "      <td>0.0</td>\n",
       "      <td>0.961535</td>\n",
       "      <td>0.204991</td>\n",
       "      <td>0.0</td>\n",
       "    </tr>\n",
       "    <tr>\n",
       "      <th>3</th>\n",
       "      <td>1.0</td>\n",
       "      <td>-1.269897</td>\n",
       "      <td>-2.686329</td>\n",
       "      <td>0.0</td>\n",
       "    </tr>\n",
       "    <tr>\n",
       "      <th>4</th>\n",
       "      <td>0.0</td>\n",
       "      <td>-0.735994</td>\n",
       "      <td>-0.232907</td>\n",
       "      <td>0.0</td>\n",
       "    </tr>\n",
       "    <tr>\n",
       "      <th>...</th>\n",
       "      <td>...</td>\n",
       "      <td>...</td>\n",
       "      <td>...</td>\n",
       "      <td>...</td>\n",
       "    </tr>\n",
       "    <tr>\n",
       "      <th>1995</th>\n",
       "      <td>1.0</td>\n",
       "      <td>-2.271236</td>\n",
       "      <td>-2.140921</td>\n",
       "      <td>0.0</td>\n",
       "    </tr>\n",
       "    <tr>\n",
       "      <th>1996</th>\n",
       "      <td>0.0</td>\n",
       "      <td>-1.57434</td>\n",
       "      <td>-1.151274</td>\n",
       "      <td>0.0</td>\n",
       "    </tr>\n",
       "    <tr>\n",
       "      <th>1997</th>\n",
       "      <td>0.0</td>\n",
       "      <td>0.71968</td>\n",
       "      <td>-0.446798</td>\n",
       "      <td>0.0</td>\n",
       "    </tr>\n",
       "    <tr>\n",
       "      <th>1998</th>\n",
       "      <td>1.0</td>\n",
       "      <td>0.531097</td>\n",
       "      <td>1.016322</td>\n",
       "      <td>0.0</td>\n",
       "    </tr>\n",
       "    <tr>\n",
       "      <th>1999</th>\n",
       "      <td>0.0</td>\n",
       "      <td>1.643122</td>\n",
       "      <td>1.65879</td>\n",
       "      <td>1.0</td>\n",
       "    </tr>\n",
       "  </tbody>\n",
       "</table>\n",
       "<p>2000 rows × 4 columns</p>\n",
       "</div>"
      ],
      "text/plain": [
       "        A         R         T    Y\n",
       "0     0.0  1.451493 -0.530997  0.0\n",
       "1     1.0 -1.895861  -0.66953  0.0\n",
       "2     0.0  0.961535  0.204991  0.0\n",
       "3     1.0 -1.269897 -2.686329  0.0\n",
       "4     0.0 -0.735994 -0.232907  0.0\n",
       "...   ...       ...       ...  ...\n",
       "1995  1.0 -2.271236 -2.140921  0.0\n",
       "1996  0.0  -1.57434 -1.151274  0.0\n",
       "1997  0.0   0.71968 -0.446798  0.0\n",
       "1998  1.0  0.531097  1.016322  0.0\n",
       "1999  0.0  1.643122   1.65879  1.0\n",
       "\n",
       "[2000 rows x 4 columns]"
      ]
     },
     "execution_count": 4,
     "metadata": {},
     "output_type": "execute_result"
    }
   ],
   "source": [
    "num_samples = 2000\n",
    "all_samples=[]\n",
    "\n",
    "for i in range(num_samples):\n",
    "    trace = trace_handler.get_trace()\n",
    "    a = trace.nodes['A']['value'].numpy().item()\n",
    "    r = trace.nodes['R']['value'].numpy().item()\n",
    "    t = trace.nodes['T']['value'].numpy().item()\n",
    "    y = trace.nodes['Y']['value'].numpy().item()\n",
    "    sample = pd.DataFrame([[a, r, t, y]], columns=['A', 'R', 'T', 'Y'])\n",
    "    \n",
    "    u1 = trace.nodes['u1']['value'].numpy().item()\n",
    "    u2 = trace.nodes['u2']['value'].numpy().item()\n",
    "    u3 = trace.nodes['u3']['value'].numpy().item()\n",
    "    u4 = trace.nodes['u4']['value'].numpy().item()\n",
    "    noise = pd.DataFrame([[u1, u2, u3, u4]], columns=['u1', 'u2', 'u3', 'u4'])\n",
    "\n",
    "    samples = pd.concat([samples, sample], ignore_index=True)\n",
    "    sample_noise = pd.concat([sample_noise, noise], ignore_index=True)\n",
    "\n",
    "samples"
   ]
  },
  {
   "cell_type": "code",
   "execution_count": 7,
   "id": "4294299f-2cbe-4b3e-a87e-73be0451aae7",
   "metadata": {},
   "outputs": [],
   "source": [
    "date_time = date.today().strftime('%m-%d-%Y')\n",
    "samples.to_csv(f'../data/{date_time}-src-groundtruth.csv', index=False)\n",
    "sample_noise.to_csv(f'../data/{date_time}-src-groundtruth-noise.csv', index=False)\n",
    "\n",
    "#samples = pd.read_csv(f'../data/{date_time}-src-groundtruth.csv')\n",
    "#samples.head()"
   ]
  },
  {
   "cell_type": "code",
   "execution_count": 24,
   "id": "4ef6ffb5-47df-449a-8fb9-fc0b13f43836",
   "metadata": {},
   "outputs": [
    {
     "data": {
      "text/plain": [
       "<AxesSubplot:>"
      ]
     },
     "execution_count": 24,
     "metadata": {},
     "output_type": "execute_result"
    },
    {
     "data": {
      "image/png": "[encoded data removed]",
      "text/plain": [
       "<Figure size 432x288 with 1 Axes>"
      ]
     },
     "metadata": {
      "needs_background": "light"
     },
     "output_type": "display_data"
    }
   ],
   "source": [
    "samples['T'].hist()"
   ]
  },
  {
   "cell_type": "code",
   "execution_count": 20,
   "id": "03bca23f-0bdf-4ad9-b100-cf5c6925e7e6",
   "metadata": {},
   "outputs": [
    {
     "data": {
      "text/html": [
       "<div>\n",
       "<style scoped>\n",
       "    .dataframe tbody tr th:only-of-type {\n",
       "        vertical-align: middle;\n",
       "    }\n",
       "\n",
       "    .dataframe tbody tr th {\n",
       "        vertical-align: top;\n",
       "    }\n",
       "\n",
       "    .dataframe thead th {\n",
       "        text-align: right;\n",
       "    }\n",
       "</style>\n",
       "<table border=\"1\" class=\"dataframe\">\n",
       "  <thead>\n",
       "    <tr style=\"text-align: right;\">\n",
       "      <th></th>\n",
       "      <th>A</th>\n",
       "      <th>R</th>\n",
       "      <th>T</th>\n",
       "      <th>Y</th>\n",
       "    </tr>\n",
       "  </thead>\n",
       "  <tbody>\n",
       "    <tr>\n",
       "      <th>0</th>\n",
       "      <td>0.0</td>\n",
       "      <td>1.451493</td>\n",
       "      <td>-0.530997</td>\n",
       "      <td>0.0</td>\n",
       "    </tr>\n",
       "    <tr>\n",
       "      <th>1</th>\n",
       "      <td>1.0</td>\n",
       "      <td>-1.895861</td>\n",
       "      <td>-0.66953</td>\n",
       "      <td>0.0</td>\n",
       "    </tr>\n",
       "    <tr>\n",
       "      <th>2</th>\n",
       "      <td>0.0</td>\n",
       "      <td>0.961535</td>\n",
       "      <td>0.204991</td>\n",
       "      <td>0.0</td>\n",
       "    </tr>\n",
       "    <tr>\n",
       "      <th>3</th>\n",
       "      <td>1.0</td>\n",
       "      <td>-1.269897</td>\n",
       "      <td>-2.686329</td>\n",
       "      <td>0.0</td>\n",
       "    </tr>\n",
       "    <tr>\n",
       "      <th>4</th>\n",
       "      <td>0.0</td>\n",
       "      <td>-0.735994</td>\n",
       "      <td>-0.232907</td>\n",
       "      <td>0.0</td>\n",
       "    </tr>\n",
       "  </tbody>\n",
       "</table>\n",
       "</div>"
      ],
      "text/plain": [
       "     A         R         T    Y\n",
       "0  0.0  1.451493 -0.530997  0.0\n",
       "1  1.0 -1.895861  -0.66953  0.0\n",
       "2  0.0  0.961535  0.204991  0.0\n",
       "3  1.0 -1.269897 -2.686329  0.0\n",
       "4  0.0 -0.735994 -0.232907  0.0"
      ]
     },
     "execution_count": 20,
     "metadata": {},
     "output_type": "execute_result"
    }
   ],
   "source": [
    "samples.head()"
   ]
  },
  {
   "cell_type": "markdown",
   "id": "eef0e510-e17a-4156-8657-e2676a5f3ea7",
   "metadata": {},
   "source": [
    "# Learn Parameters from Ground Truth"
   ]
  },
  {
   "cell_type": "code",
   "execution_count": 33,
   "id": "19675770-da1e-44f9-a717-8491327a60a6",
   "metadata": {},
   "outputs": [],
   "source": [
    "def ProposedModel(a=None, r=None, t=None, y=None, gamma_shift=0., C=0.):\n",
    "    gamma_shift = torch.tensor(gamma_shift)\n",
    "    C = torch.tensor(C)\n",
    "\n",
    "    lambda1 = pyro.sample(\"lambda1\", dist.Normal(0., 1.))\n",
    "    lambda2 = pyro.sample(\"lambda2\", dist.Normal(0., 1.))\n",
    "    lambda3 = pyro.sample(\"lambda3\", dist.Normal(0., 1.))\n",
    "    lambda4 = pyro.sample(\"lambda4\", dist.Normal(0., 1.))\n",
    "    lambda5 = pyro.sample(\"lambda5\", dist.Normal(0., 1.))\n",
    "    lambda6 = pyro.sample(\"lambda6\", dist.Normal(0., 1.))\n",
    "    lambda7 = pyro.sample(\"lambda7\", dist.Normal(0., 1.))\n",
    "    lambda8 = pyro.sample(\"lambda8\", dist.Normal(0., 1.))\n",
    "    \n",
    "    with pyro.plate(\"data\", a.size(0)):\n",
    "        u1 = pyro.sample(\"u1\", dist.Normal(0., 0.6))\n",
    "        u2 = pyro.sample(\"u2\", dist.Normal(0., 0.8))\n",
    "        u3 = pyro.sample(\"u3\", dist.Normal(0., 0.9))\n",
    "        u4 = pyro.sample(\"u4\", dist.Normal(0., 1.2))\n",
    "        \n",
    "        a_prob = torch.sigmoid(gamma_shift*lambda1*C + u1)\n",
    "        a_val = pyro.sample(\"a\", dist.Bernoulli(probs=a_prob), obs=a)\n",
    "\n",
    "        r_val = pyro.sample(\"r\", dist.Normal(lambda2*a_val + u2, 1.), obs=r) \n",
    "\n",
    "        y_prob = torch.sigmoid(lambda3*a_val + lambda4*r_val + u3)\n",
    "        y_val = pyro.sample(\"y\", dist.Bernoulli(probs=y_prob), obs=y)\n",
    "\n",
    "        t_val = pyro.sample(\"t\", dist.Normal(lambda5*y_val + lambda6*r_val + lambda7*a_val + u4, \n",
    "                                             1. + gamma_shift*lambda8*C), obs=t)\n",
    "        \n",
    "        return a_val, r_val, y_val, t_val"
   ]
  },
  {
   "cell_type": "code",
   "execution_count": 34,
   "id": "28b9567a-208a-453a-906c-407e05583471",
   "metadata": {},
   "outputs": [],
   "source": [
    "from pyro.infer.autoguide import AutoDelta, AutoNormal\n",
    "\n",
    "autodelta = AutoDelta(pyro.poutine.block(ProposedModel, hide=[\"u1\", \"u2\", \"u3\", \"u4\"]))\n",
    "autonormal = AutoNormal(pyro.poutine.block(ProposedModel, hide=[\"u1\", \"u2\", \"u3\", \"u4\"]))"
   ]
  },
  {
   "cell_type": "code",
   "execution_count": 35,
   "id": "4d3eb5e6-16e7-4f37-a98d-23559b05ddc0",
   "metadata": {},
   "outputs": [],
   "source": [
    "def train(data, num_steps, num_obs, model, guide):\n",
    "    data = torch.tensor(data.astype(float).values)\n",
    "    \n",
    "    pyro.clear_param_store()\n",
    "    loss_func = pyro.infer.Trace_ELBO()\n",
    "    svi = pyro.infer.SVI(model, guide, pyro.optim.Adam({\"lr\": 0.01}), loss=loss_func)\n",
    "    \n",
    "    losses = []\n",
    "    for i in tqdm(range(num_steps)):\n",
    "        loss = svi.step(data[:, 0], data[:, 1], data[:, 2], data[:, 3])\n",
    "        losses.append(loss)\n",
    "        \n",
    "    plt.figure()\n",
    "    plt.plot(losses)\n",
    "    plt.show()\n",
    "    \n",
    "    posterior_params = {k: np.array(v.data) for k, v in pyro.get_param_store().items()}\n",
    "    return posterior_params"
   ]
  },
  {
   "cell_type": "code",
   "execution_count": 36,
   "id": "9615cb8a-c329-4fa5-a56c-f0de9a62fbee",
   "metadata": {},
   "outputs": [
    {
     "name": "stderr",
     "output_type": "stream",
     "text": [
      "  0%|                                                                            | 0/1000 [00:00<?, ?it/s]/Users/zainkhan/miniconda3/envs/comp/lib/python3.8/site-packages/pyro/util.py:303: UserWarning: Found vars in model but not guide: {'u3', 'u1', 'u2', 'u4'}\n",
      "  warnings.warn(f\"Found vars in model but not guide: {bad_sites}\")\n",
      "100%|████████████████████████████████████████████████████████████████| 1000/1000 [00:02<00:00, 413.54it/s]\n"
     ]
    },
    {
     "data": {
      "image/png": "[encoded data removed]",
      "text/plain": [
       "<Figure size 432x288 with 1 Axes>"
      ]
     },
     "metadata": {
      "needs_background": "light"
     },
     "output_type": "display_data"
    }
   ],
   "source": [
    "learned_params = train(samples, num_steps=1000, num_obs=2000, model=ProposedModel, guide=autodelta)"
   ]
  },
  {
   "cell_type": "code",
   "execution_count": 37,
   "id": "48c8d66e-4b1a-48d7-84a3-0b80cf858410",
   "metadata": {},
   "outputs": [
    {
     "data": {
      "text/plain": [
       "{'AutoDelta.lambda1': array(-6.685841e-24, dtype=float32),\n",
       " 'AutoDelta.lambda2': array(-0.16836806, dtype=float32),\n",
       " 'AutoDelta.lambda3': array(-0.760402, dtype=float32),\n",
       " 'AutoDelta.lambda4': array(0.733341, dtype=float32),\n",
       " 'AutoDelta.lambda5': array(0.8162695, dtype=float32),\n",
       " 'AutoDelta.lambda6': array(0.09432353, dtype=float32),\n",
       " 'AutoDelta.lambda7': array(-0.7792699, dtype=float32),\n",
       " 'AutoDelta.lambda8': array(-1.207507e-24, dtype=float32)}"
      ]
     },
     "execution_count": 37,
     "metadata": {},
     "output_type": "execute_result"
    }
   ],
   "source": [
    "learned_params"
   ]
  },
  {
   "cell_type": "code",
   "execution_count": 38,
   "id": "41e02e41-7c51-44d6-9e7a-41ab026e5b10",
   "metadata": {},
   "outputs": [
    {
     "data": {
      "text/plain": [
       "{'lambda1': -6.685840718628694e-24,\n",
       " 'lambda2': -0.16836805641651154,\n",
       " 'lambda3': -0.7604020237922668,\n",
       " 'lambda4': 0.7333409786224365,\n",
       " 'lambda5': 0.8162695169448853,\n",
       " 'lambda6': 0.09432353079319,\n",
       " 'lambda7': -0.7792698740959167,\n",
       " 'lambda8': -1.2075070210390871e-24}"
      ]
     },
     "execution_count": 38,
     "metadata": {},
     "output_type": "execute_result"
    }
   ],
   "source": [
    "for i in range(1, 9):\n",
    "    learned_params[f'lambda{i}'] = learned_params.pop(f'AutoDelta.lambda{i}')\n",
    "    learned_params[f'lambda{i}'] = float(learned_params[f'lambda{i}'])\n",
    "learned_params"
   ]
  },
  {
   "cell_type": "markdown",
   "id": "d016a469-ef51-4a51-91a8-09e83fe1b876",
   "metadata": {},
   "source": [
    "# Twin-World Counterfactuals "
   ]
  },
  {
   "cell_type": "markdown",
   "id": "770564e6-eb98-4062-b658-be1ddd192e11",
   "metadata": {},
   "source": [
    "1. Abduction: Predict the ‘state of the world’ (the exogenous noise, e) that is compatible with\n",
    "the observations, x, i.e. infer PG(e|x).\n",
    "\n",
    "2. Action: Perform an intervention corresponding to the desired manipulation, resulting in a modified SCM Ge = Gx;do(xek) = (Se, PG(e|x)).\n",
    "    \n",
    "3. Prediction: Compute the quantity of interest based on the distribution entailed by the counterfactual SCM, PG(x)."
   ]
  },
  {
   "cell_type": "code",
   "execution_count": 152,
   "id": "6b84cff1-310a-49db-b485-55c172b77dba",
   "metadata": {},
   "outputs": [
    {
     "data": {
      "text/plain": [
       "(A    0.000000\n",
       " R    0.873463\n",
       " T    3.079657\n",
       " Y    1.000000\n",
       " Name: 1, dtype: float64,\n",
       " u1    0.739980\n",
       " u2    0.116692\n",
       " u3    1.111096\n",
       " u4    0.080837\n",
       " Name: 2, dtype: float64)"
      ]
     },
     "execution_count": 152,
     "metadata": {},
     "output_type": "execute_result"
    }
   ],
   "source": [
    "samples.iloc[1], sample_noise.iloc[2]"
   ]
  },
  {
   "cell_type": "code",
   "execution_count": 40,
   "id": "a1c4825d-f268-451a-a118-4ef6f0be9cd3",
   "metadata": {},
   "outputs": [],
   "source": [
    "def infer_exogenous(obs, model):\n",
    "    input_a = torch.tensor(np.array([obs['a']]))\n",
    "    input_r = torch.tensor(np.array([obs['r']]))\n",
    "    input_y = torch.tensor(np.array([obs['y']]))\n",
    "    input_t = torch.tensor(np.array([obs['t']]))\n",
    "    \n",
    "    cond_sample = pyro.condition(lambda: model(input_a, input_r, input_t, input_y), obs)\n",
    "    cond_trace = pyro.poutine.trace(cond_sample).get_trace()\n",
    "    \n",
    "    exogenous = {k: cond_trace.nodes[k]['value'] for k in  ['u1', 'u2', 'u3', 'u4']}\n",
    "    return exogenous\n",
    "\n",
    "\n",
    "def counterfactual(model, obs, learned_params):\n",
    "    # Infer state of world (ie learn noise)\n",
    "    exogenous = infer_exogenous(obs, model)\n",
    "    exogenous_and_learned = {**exogenous, **learned_params}\n",
    "    \n",
    "    # Find counterfactual A value (a') for this sample\n",
    "    input_a = torch.tensor(np.array([obs['a']]))\n",
    "    cf_a = 0 if input_a.numpy()[0] == 1. else 1.\n",
    "    \n",
    "    # Compute counterfactual sample\n",
    "    cf_model = pyro.do(pyro.condition(model, data=exogenous_and_learned), data={'a': torch.tensor(cf_a)})\n",
    "    \n",
    "    return cf_model, cf_a"
   ]
  },
  {
   "cell_type": "code",
   "execution_count": 41,
   "id": "4ad8217c-6ac3-4404-b445-d2748b409e30",
   "metadata": {},
   "outputs": [
    {
     "name": "stdout",
     "output_type": "stream",
     "text": [
      "(tensor(1.), tensor([-1.4316]), tensor([0.]), tensor([0.2857]))\n"
     ]
    }
   ],
   "source": [
    "# Get sample\n",
    "obs = {k.lower(): torch.tensor(samples.iloc[0][k]) for k in ['A', 'R', 'Y', 'T']} \n",
    "\n",
    "# Infer noise/state of the world and produce counterfactual\n",
    "cf, cf_a = counterfactual(ProposedModel, obs, learned_params)\n",
    "\n",
    "input_a = torch.tensor(np.array([obs['a']]))\n",
    "print(cf(input_a))"
   ]
  },
  {
   "cell_type": "code",
   "execution_count": 42,
   "id": "265aa283-23f5-4fb9-b4cf-828876a72c75",
   "metadata": {},
   "outputs": [
    {
     "data": {
      "text/plain": [
       "{'a': tensor(0., dtype=torch.float64),\n",
       " 'r': tensor(1.4515),\n",
       " 'y': tensor(0.),\n",
       " 't': tensor(-0.5310)}"
      ]
     },
     "execution_count": 42,
     "metadata": {},
     "output_type": "execute_result"
    }
   ],
   "source": [
    "obs"
   ]
  },
  {
   "cell_type": "code",
   "execution_count": null,
   "id": "b62bfd74-04e9-40b3-a42e-ee34558cfb7c",
   "metadata": {},
   "outputs": [],
   "source": []
  }
 ],
 "metadata": {
  "kernelspec": {
   "display_name": "Python 3 (ipykernel)",
   "language": "python",
   "name": "python3"
  },
  "language_info": {
   "codemirror_mode": {
    "name": "ipython",
    "version": 3
   },
   "file_extension": ".py",
   "mimetype": "text/x-python",
   "name": "python",
   "nbconvert_exporter": "python",
   "pygments_lexer": "ipython3",
   "version": "3.8.11"
  }
 },
 "nbformat": 4,
 "nbformat_minor": 5
}
