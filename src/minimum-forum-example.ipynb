{
 "cells": [
  {
   "cell_type": "code",
   "execution_count": 1,
   "id": "dbc2b319-a6c0-4505-8ed5-f1c88d96b170",
   "metadata": {},
   "outputs": [],
   "source": [
    "import pyro\n",
    "import pyro.distributions as dist\n",
    "import pyro.poutine as poutine\n",
    "\n",
    "import pandas as pd\n",
    "import numpy as np\n",
    "import torch"
   ]
  },
  {
   "cell_type": "code",
   "execution_count": 2,
   "id": "4cbf5503-cdef-4b25-9b57-8fc1b26c11b9",
   "metadata": {},
   "outputs": [],
   "source": [
    "def ProposedModelSmall(a=None, r=None, y=None, gamma_shift=0., C=0.):\n",
    "    gamma_shift = torch.tensor(gamma_shift)\n",
    "    C = torch.tensor(C)\n",
    "\n",
    "    lambda1 = pyro.sample(\"lambda1\", dist.Normal(0., 1.))\n",
    "    lambda2 = pyro.sample(\"lambda2\", dist.Normal(0., 1.))\n",
    "    lambda3 = pyro.sample(\"lambda3\", dist.Normal(0., 1.))\n",
    "    lambda4 = pyro.sample(\"lambda4\", dist.Normal(0., 1.))\n",
    "    \n",
    "    with pyro.plate(\"data\", a.size(0)):\n",
    "        u1 = pyro.sample(\"u1\", dist.Normal(torch.tensor(0.), torch.tensor(0.6)))\n",
    "        u2 = pyro.sample(\"u2\", dist.Normal(torch.tensor(0.), torch.tensor(0.8)))\n",
    "        u3 = pyro.sample(\"u3\", dist.Normal(torch.tensor(0.), torch.tensor(0.9)))\n",
    "        \n",
    "        a_prob = torch.sigmoid(gamma_shift*lambda1*C + u1)\n",
    "        a_val = pyro.sample(\"a\", dist.Bernoulli(probs=a_prob), obs=a)\n",
    "\n",
    "        r_val = pyro.sample(\"r\", dist.Normal(lambda2*a_val + u2, 1.), obs=r) \n",
    "\n",
    "        y_prob = torch.sigmoid(lambda3*a_val + lambda4*r_val + u3)\n",
    "        y_val = pyro.sample(\"y\", dist.Bernoulli(probs=y_prob), obs=y)\n",
    "        \n",
    "        return a_val, r_val, y_val"
   ]
  },
  {
   "cell_type": "code",
   "execution_count": 3,
   "id": "895c0b56-f1a7-4e94-86de-1ee45c6af32f",
   "metadata": {},
   "outputs": [],
   "source": [
    "# Sample data\n",
    "samples = pd.DataFrame(columns=['A', 'R', 'Y'])\n",
    "samples['A'] = [1., 0., 1.]\n",
    "samples['R'] = [1.25, 0.87, 0.43]\n",
    "samples['Y'] = [0., 1., 1.]"
   ]
  },
  {
   "cell_type": "code",
   "execution_count": 7,
   "id": "b41d019e-7e30-46f2-9801-24099bf044b8",
   "metadata": {},
   "outputs": [],
   "source": [
    "def infer_exogenous(obs, model):\n",
    "    input_a = torch.tensor(np.array([obs['a']]))\n",
    "    input_r = torch.tensor(np.array([obs['r']]))\n",
    "    input_y = torch.tensor(np.array([obs['y']]))\n",
    "    \n",
    "    cond_sample = pyro.condition(lambda: model(input_a, input_r, input_y), obs)\n",
    "    cond_trace = pyro.poutine.trace(cond_sample).get_trace()\n",
    "    \n",
    "    exogenous = {k: cond_trace.nodes[k]['value'] for k in  ['u1', 'u2', 'u3']}\n",
    "    return exogenous\n",
    "\n",
    "\n",
    "def counterfactual(model, obs, learned_params):\n",
    "    # Infer state of world (ie learn noise)\n",
    "    exogenous = infer_exogenous(obs, model)\n",
    "    exogenous_and_learned = {**exogenous, **learned_params}\n",
    "    \n",
    "    # Find counterfactual A value (a') for this sample\n",
    "    input_a = torch.tensor(np.array([obs['a']]))\n",
    "    cf_a = 0 if input_a.numpy()[0] == 1. else 1.\n",
    "    \n",
    "    # Compute counterfactual sample\n",
    "    cf_model = pyro.do(pyro.condition(model, data=exogenous_and_learned), data={'a': torch.tensor(cf_a)})\n",
    "    \n",
    "    return cf_model, cf_a, state_of_world"
   ]
  },
  {
   "cell_type": "code",
   "execution_count": 8,
   "id": "c730ca20-4ca9-433b-a293-8d6cfcddd94a",
   "metadata": {},
   "outputs": [
    {
     "name": "stdout",
     "output_type": "stream",
     "text": [
      "(tensor(0), tensor([-1.4738]), tensor([0.]))\n"
     ]
    }
   ],
   "source": [
    "# Get sample\n",
    "obs = {k.lower(): torch.tensor(samples.iloc[0][k]) for k in ['A', 'R', 'Y']} \n",
    "\n",
    "# Infer noise/state of the world and generate counterfactual\n",
    "learned_params = {'lambda1': torch.tensor(8.68e-24), 'lambda2': torch.tensor(-0.15), 'lambda3': torch.tensor(-0.81), 'lambda4': torch.tensor(0.85)}\n",
    "cf, cf_a, state_of_world = counterfactual(ProposedModelSmall, obs, learned_params)\n",
    "\n",
    "input_a = torch.tensor(np.array([obs['a']]))\n",
    "print(cf(input_a))"
   ]
  },
  {
   "cell_type": "code",
   "execution_count": 6,
   "id": "5e86059c-4aab-4227-a1f9-60af635c9f02",
   "metadata": {},
   "outputs": [
    {
     "data": {
      "text/plain": [
       "{'a': tensor(1., dtype=torch.float64),\n",
       " 'r': tensor(1.2500, dtype=torch.float64),\n",
       " 'y': tensor(0., dtype=torch.float64)}"
      ]
     },
     "execution_count": 6,
     "metadata": {},
     "output_type": "execute_result"
    }
   ],
   "source": [
    "obs"
   ]
  },
  {
   "cell_type": "code",
   "execution_count": null,
   "id": "d2df4e8a-c56c-4829-80d5-b347a1831c6d",
   "metadata": {},
   "outputs": [],
   "source": []
  }
 ],
 "metadata": {
  "kernelspec": {
   "display_name": "Python 3",
   "language": "python",
   "name": "python3"
  },
  "language_info": {
   "codemirror_mode": {
    "name": "ipython",
    "version": 3
   },
   "file_extension": ".py",
   "mimetype": "text/x-python",
   "name": "python",
   "nbconvert_exporter": "python",
   "pygments_lexer": "ipython3",
   "version": "3.8.10"
  }
 },
 "nbformat": 4,
 "nbformat_minor": 5
}
